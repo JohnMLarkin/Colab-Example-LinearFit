{
 "cells": [
  {
   "cell_type": "markdown",
   "metadata": {
    "colab_type": "text",
    "id": "view-in-github"
   },
   "source": [
    "<a href=\"https://colab.research.google.com/github/JohnMLarkin/Colab-Example-LinearFit/blob/main/Example_LinearFit.ipynb\" target=\"_parent\"><img src=\"https://colab.research.google.com/assets/colab-badge.svg\" alt=\"Open In Colab\"/></a>"
   ]
  },
  {
   "cell_type": "code",
   "execution_count": null,
   "metadata": {
    "colab": {
     "base_uri": "https://localhost:8080/"
    },
    "id": "33D05ucmpMmm",
    "outputId": "7ae9d17c-c158-4d57-9f77-00f2138e6933"
   },
   "outputs": [],
   "source": [
    "if 'google.colab' in str(get_ipython()):\n",
    "  try:\n",
    "    %cd /content/Colab-Example-LinearFit/\n",
    "    !git pull\n",
    "  except:\n",
    "    %cd /content\n",
    "    !git clone https://github.com/JohnMLarkin/Colab-Example-LinearFit\n",
    "    %cd /content/Colab-Example-LinearFit/"
   ]
  },
  {
   "cell_type": "code",
   "execution_count": null,
   "metadata": {
    "id": "LbSKq6EFq2cg"
   },
   "outputs": [],
   "source": [
    "import pandas as pd\n",
    "import numpy as np\n",
    "import matplotlib.pyplot as plt\n",
    "from whitworth_helpers import prettyPolyFit"
   ]
  },
  {
   "cell_type": "markdown",
   "metadata": {
    "id": "aRAgcBk62jyX"
   },
   "source": [
    "Import `prettyPolyFit` from `whitworth_helpers`. This is a wrapper around NumPy's `polyfit` function that returns the best fit values and uncertainties in a pandas DataFrame."
   ]
  },
  {
   "cell_type": "markdown",
   "metadata": {},
   "source": [
    "<img src=\"Yukalot-Cat-Interference.jpg\" width=\"400\"/>"
   ]
  },
  {
   "cell_type": "code",
   "execution_count": null,
   "metadata": {
    "colab": {
     "base_uri": "https://localhost:8080/",
     "height": 359
    },
    "id": "t-mktY_SrBvg",
    "outputId": "93eacc00-ea71-4827-a992-29b014af1255"
   },
   "outputs": [],
   "source": [
    "df = pd.read_csv(\"Data/sample_data.txt\",sep=\"\\t\")\r\n",
    "df"
   ]
  },
  {
   "cell_type": "code",
   "execution_count": null,
   "metadata": {
    "colab": {
     "base_uri": "https://localhost:8080/",
     "height": 111
    },
    "id": "cKVSamP8xy_b",
    "outputId": "84703b21-25bb-4cac-93ff-7d125371f77b"
   },
   "outputs": [],
   "source": [
    "fit, fitFunc = prettyPolyFit(df['Time (s)'], df['Position (m)'], 1)\r\n",
    "fit"
   ]
  },
  {
   "cell_type": "code",
   "execution_count": null,
   "metadata": {
    "colab": {
     "base_uri": "https://localhost:8080/",
     "height": 283
    },
    "id": "ChGQSxcYrO6R",
    "outputId": "d07022aa-62d0-4b5e-da8c-42f0163bc912"
   },
   "outputs": [],
   "source": [
    "fig, ax = plt.subplots()\r\n",
    "ax.scatter(df['Time (s)'], df['Position (m)']);\r\n",
    "ax.set_xlabel(\"Time (s)\");\r\n",
    "ax.set_ylabel(\"Position (m)\");\r\n",
    "ax.set_xlim(0,1);\r\n",
    "ax.set_ylim(0,9);\r\n",
    "t_fit = np.linspace(0,1,2);\r\n",
    "ax.plot(t_fit, fitFunc(t_fit));"
   ]
  }
 ],
 "metadata": {
  "colab": {
   "authorship_tag": "ABX9TyNDR0muG5FnNUriJGdUJwM4",
   "include_colab_link": true,
   "name": "Example-LinearFit.ipynb",
   "provenance": []
  },
  "kernelspec": {
   "display_name": "Python 3",
   "language": "python",
   "name": "python3"
  },
  "language_info": {
   "codemirror_mode": {
    "name": "ipython",
    "version": 3
   },
   "file_extension": ".py",
   "mimetype": "text/x-python",
   "name": "python",
   "nbconvert_exporter": "python",
   "pygments_lexer": "ipython3",
   "version": "3.7.4"
  }
 },
 "nbformat": 4,
 "nbformat_minor": 4
}