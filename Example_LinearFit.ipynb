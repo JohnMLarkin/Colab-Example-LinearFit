{
  "nbformat": 4,
  "nbformat_minor": 0,
  "metadata": {
    "colab": {
      "name": "Example-LinearFit.ipynb",
      "provenance": [],
      "include_colab_link": true
    },
    "kernelspec": {
      "display_name": "Python 3",
      "language": "python",
      "name": "python3"
    },
    "language_info": {
      "codemirror_mode": {
        "name": "ipython",
        "version": 3
      },
      "file_extension": ".py",
      "mimetype": "text/x-python",
      "name": "python",
      "nbconvert_exporter": "python",
      "pygments_lexer": "ipython3",
      "version": "3.7.4"
    }
  },
  "cells": [
    {
      "cell_type": "markdown",
      "metadata": {
        "id": "view-in-github",
        "colab_type": "text"
      },
      "source": [
        "<a href=\"https://colab.research.google.com/github/JohnMLarkin/Colab-Example-LinearFit/blob/main/Example_LinearFit.ipynb\" target=\"_parent\"><img src=\"https://colab.research.google.com/assets/colab-badge.svg\" alt=\"Open In Colab\"/></a>"
      ]
    },
    {
      "cell_type": "code",
      "metadata": {
        "id": "53lVz31hHJ6n"
      },
      "source": [
        "url = \"https://github.com/JohnMLarkin/ColabForLab-Example-LinearFit\"\r\n",
        "if 'google.colab' in str(get_ipython()):\r\n",
        "  import os.path\r\n",
        "  repo = os.path.split(url)[1]\r\n",
        "  repodir = os.path.join('/content', repo)\r\n",
        "  if os.path.isdir(repodir):\r\n",
        "    %cd $repodir\r\n",
        "    !git pull\r\n",
        "  else:\r\n",
        "    %cd /content\r\n",
        "    !git clone $url\r\n",
        "    %cd $repodir"
      ],
      "execution_count": null,
      "outputs": []
    },
    {
      "cell_type": "code",
      "metadata": {
        "id": "LbSKq6EFq2cg"
      },
      "source": [
        "import pandas as pd\n",
        "import numpy as np\n",
        "import matplotlib.pyplot as plt\n",
        "from whitworth_helpers import prettyPolyFit"
      ],
      "execution_count": null,
      "outputs": []
    },
    {
      "cell_type": "markdown",
      "metadata": {
        "id": "aRAgcBk62jyX"
      },
      "source": [
        "Import `prettyPolyFit` from `whitworth_helpers`. This is a wrapper around NumPy's `polyfit` function that returns the best fit values and uncertainties in a pandas DataFrame."
      ]
    },
    {
      "cell_type": "code",
      "metadata": {
        "colab": {
          "base_uri": "https://localhost:8080/",
          "height": 359
        },
        "id": "t-mktY_SrBvg",
        "outputId": "93eacc00-ea71-4827-a992-29b014af1255"
      },
      "source": [
        "df = pd.read_csv(\"Data/sample_data.txt\",sep=\"\\t\")\r\n",
        "df"
      ],
      "execution_count": null,
      "outputs": [
        {
          "output_type": "execute_result",
          "data": {
            "text/html": [
              "<div>\n",
              "<style scoped>\n",
              "    .dataframe tbody tr th:only-of-type {\n",
              "        vertical-align: middle;\n",
              "    }\n",
              "\n",
              "    .dataframe tbody tr th {\n",
              "        vertical-align: top;\n",
              "    }\n",
              "\n",
              "    .dataframe thead th {\n",
              "        text-align: right;\n",
              "    }\n",
              "</style>\n",
              "<table border=\"1\" class=\"dataframe\">\n",
              "  <thead>\n",
              "    <tr style=\"text-align: right;\">\n",
              "      <th></th>\n",
              "      <th>Time (s)</th>\n",
              "      <th>Position (m)</th>\n",
              "    </tr>\n",
              "  </thead>\n",
              "  <tbody>\n",
              "    <tr>\n",
              "      <td>0</td>\n",
              "      <td>0.0</td>\n",
              "      <td>0.1</td>\n",
              "    </tr>\n",
              "    <tr>\n",
              "      <td>1</td>\n",
              "      <td>0.2</td>\n",
              "      <td>1.2</td>\n",
              "    </tr>\n",
              "    <tr>\n",
              "      <td>2</td>\n",
              "      <td>0.3</td>\n",
              "      <td>2.0</td>\n",
              "    </tr>\n",
              "    <tr>\n",
              "      <td>3</td>\n",
              "      <td>0.4</td>\n",
              "      <td>3.1</td>\n",
              "    </tr>\n",
              "    <tr>\n",
              "      <td>4</td>\n",
              "      <td>0.5</td>\n",
              "      <td>3.9</td>\n",
              "    </tr>\n",
              "    <tr>\n",
              "      <td>5</td>\n",
              "      <td>0.6</td>\n",
              "      <td>5.2</td>\n",
              "    </tr>\n",
              "    <tr>\n",
              "      <td>6</td>\n",
              "      <td>0.7</td>\n",
              "      <td>6.0</td>\n",
              "    </tr>\n",
              "    <tr>\n",
              "      <td>7</td>\n",
              "      <td>0.8</td>\n",
              "      <td>7.1</td>\n",
              "    </tr>\n",
              "    <tr>\n",
              "      <td>8</td>\n",
              "      <td>0.9</td>\n",
              "      <td>7.9</td>\n",
              "    </tr>\n",
              "    <tr>\n",
              "      <td>9</td>\n",
              "      <td>1.0</td>\n",
              "      <td>9.1</td>\n",
              "    </tr>\n",
              "  </tbody>\n",
              "</table>\n",
              "</div>"
            ],
            "text/plain": [
              "   Time (s)  Position (m)\n",
              "0       0.0           0.1\n",
              "1       0.2           1.2\n",
              "2       0.3           2.0\n",
              "3       0.4           3.1\n",
              "4       0.5           3.9\n",
              "5       0.6           5.2\n",
              "6       0.7           6.0\n",
              "7       0.8           7.1\n",
              "8       0.9           7.9\n",
              "9       1.0           9.1"
            ]
          },
          "metadata": {
            "tags": []
          },
          "execution_count": 3
        }
      ]
    },
    {
      "cell_type": "code",
      "metadata": {
        "colab": {
          "base_uri": "https://localhost:8080/",
          "height": 111
        },
        "id": "cKVSamP8xy_b",
        "outputId": "84703b21-25bb-4cac-93ff-7d125371f77b"
      },
      "source": [
        "fit, fitFunc = prettyPolyFit(df['Time (s)'], df['Position (m)'], 1)\r\n",
        "fit"
      ],
      "execution_count": null,
      "outputs": [
        {
          "output_type": "execute_result",
          "data": {
            "text/html": [
              "<div>\n",
              "<style scoped>\n",
              "    .dataframe tbody tr th:only-of-type {\n",
              "        vertical-align: middle;\n",
              "    }\n",
              "\n",
              "    .dataframe tbody tr th {\n",
              "        vertical-align: top;\n",
              "    }\n",
              "\n",
              "    .dataframe thead th {\n",
              "        text-align: right;\n",
              "    }\n",
              "</style>\n",
              "<table border=\"1\" class=\"dataframe\">\n",
              "  <thead>\n",
              "    <tr style=\"text-align: right;\">\n",
              "      <th></th>\n",
              "      <th>slope</th>\n",
              "      <th>intercept</th>\n",
              "    </tr>\n",
              "  </thead>\n",
              "  <tbody>\n",
              "    <tr>\n",
              "      <td>value</td>\n",
              "      <td>9.324675</td>\n",
              "      <td>-0.475325</td>\n",
              "    </tr>\n",
              "    <tr>\n",
              "      <td>uncertainty</td>\n",
              "      <td>0.598789</td>\n",
              "      <td>0.371056</td>\n",
              "    </tr>\n",
              "  </tbody>\n",
              "</table>\n",
              "</div>"
            ],
            "text/plain": [
              "                slope  intercept\n",
              "value        9.324675  -0.475325\n",
              "uncertainty  0.598789   0.371056"
            ]
          },
          "metadata": {
            "tags": []
          },
          "execution_count": 4
        }
      ]
    },
    {
      "cell_type": "code",
      "metadata": {
        "colab": {
          "base_uri": "https://localhost:8080/",
          "height": 283
        },
        "id": "ChGQSxcYrO6R",
        "outputId": "d07022aa-62d0-4b5e-da8c-42f0163bc912"
      },
      "source": [
        "fig, ax = plt.subplots()\r\n",
        "ax.scatter(df['Time (s)'], df['Position (m)']);\r\n",
        "ax.set_xlabel(\"Time (s)\");\r\n",
        "ax.set_ylabel(\"Position (m)\");\r\n",
        "ax.set_xlim(0,1);\r\n",
        "ax.set_ylim(0,9);\r\n",
        "t_fit = np.linspace(0,1,2);\r\n",
        "ax.plot(t_fit, fitFunc(t_fit));"
      ],
      "execution_count": null,
      "outputs": [
        {
          "output_type": "display_data",
          "data": {
            "image/png": "[encoded data removed]",
            "text/plain": [
              "<Figure size 432x288 with 1 Axes>"
            ]
          },
          "metadata": {
            "tags": [],
            "needs_background": "light"
          }
        }
      ]
    },
    {
      "cell_type": "code",
      "metadata": {
        "id": "RweKD0XPEK7C"
      },
      "source": [
        ""
      ],
      "execution_count": null,
      "outputs": []
    }
  ]
}